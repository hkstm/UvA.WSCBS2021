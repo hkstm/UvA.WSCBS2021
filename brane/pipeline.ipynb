{
 "cells": [
  {
   "cell_type": "code",
   "execution_count": 1,
   "id": "2bc84001",
   "metadata": {},
   "outputs": [
    {
     "data": {
      "application/vnd.brane.invocation+json": {
       "bytecode": "0000 OP_IMPORT           0 | \"preprocessing\"\n0002 OP_IMPORT           1 | \"training\"\n0004 OP_IMPORT           2 | \"predicting\"\n",
       "done": true,
       "output": ""
      }
     },
     "metadata": {},
     "output_type": "display_data"
    }
   ],
   "source": [
    "import preprocessing;\n",
    "import training;\n",
    "import predicting;\n",
    "import visualization;"
   ]
  },
  {
   "cell_type": "raw",
   "id": "5fad8ca5",
   "metadata": {},
   "source": []
  },
  {
   "cell_type": "markdown",
   "id": "21e8e2ca",
   "metadata": {},
   "source": [
    "## Visualization - Data exploring"
   ]
  },
  {
   "cell_type": "code",
   "execution_count": null,
   "id": "6f7ade63",
   "metadata": {},
   "outputs": [],
   "source": [
    "groupbyplot(\"piechart\", \"/data/data/test1000.csv\", \"/data/PlatformPieChart.png\", \"Census_PowerPlatformRoleName\", 10000.0, \"Platform Types\", true);"
   ]
  },
  {
   "cell_type": "code",
   "execution_count": null,
   "id": "5f7cd948",
   "metadata": {},
   "outputs": [],
   "source": [
    "groupbyplot(\"barplot\", \"/data/data/test1000.csv\", \"/data/NumCoresBarPlot.png\", \"Census_ProcessorCoreCount\", 10000.0, \"Number of cores\", true);"
   ]
  },
  {
   "cell_type": "markdown",
   "id": "d96ebef4",
   "metadata": {},
   "source": [
    "## Preprocessing, Training and Predicting"
   ]
  },
  {
   "cell_type": "code",
   "execution_count": 3,
   "id": "7dece526",
   "metadata": {},
   "outputs": [
    {
     "data": {
      "application/vnd.brane.invocation+json": {
       "bytecode": "0000 OP_FALSE\n0001 OP_DEFINE_GLOBAL    0 | \"use_local\"\n0003 OP_TRUE\n0004 OP_DEFINE_GLOBAL    1 | \"use_sampled_data\"\n0006 OP_CONSTANT         2 | \"lightgbm\"\n0008 OP_DEFINE_GLOBAL    3 | \"model_name\"\n0010 OP_CONSTANT         4 | \"auc\"\n0012 OP_DEFINE_GLOBAL    5 | \"eval_metric\"\n0014 OP_CONSTANT         6 | 1\n0016 OP_NEGATE\n0017 OP_DEFINE_GLOBAL    7 | \"max_depth\"\n0019 OP_CONSTANT         8 | 30000\n0021 OP_DEFINE_GLOBAL    9 | \"n_estimators\"\n0023 OP_CONSTANT        10 | 0.05\n0025 OP_DEFINE_GLOBAL   11 | \"learning_rate\"\n0027 OP_CONSTANT        12 | 4095\n0029 OP_DEFINE_GLOBAL   13 | \"num_leaves\"\n0031 OP_CONSTANT        14 | 0.28\n0033 OP_DEFINE_GLOBAL   15 | \"colsample_bytree\"\n0035 OP_CONSTANT        16 | \"binary\"\n0037 OP_DEFINE_GLOBAL   17 | \"objective\"\n0039 OP_CONSTANT        18 | 1\n0041 OP_NEGATE\n0042 OP_DEFINE_GLOBAL   19 | \"n_jobs\"\n0044 OP_GET_GLOBAL      20 | \"preprocess\"\n0046 OP_GET_GLOBAL      21 | \"use_local\"\n0048 OP_GET_GLOBAL      22 | \"use_sampled_data\"\n0050 OP_CALL             2 | \n0052 OP_GET_GLOBAL      23 | \"train\"\n0054 OP_CONSTANT        24 | \"lightgbm\"\n0056 OP_CONSTANT        25 | \"auc\"\n0058 OP_GET_GLOBAL      26 | \"max_depth\"\n0060 OP_GET_GLOBAL      27 | \"n_estimators\"\n0062 OP_GET_GLOBAL      28 | \"learning_rate\"\n0064 OP_GET_GLOBAL      29 | \"num_leaves\"\n0066 OP_GET_GLOBAL      30 | \"colsample_bytree\"\n0068 OP_GET_GLOBAL      31 | \"objective\"\n0070 OP_GET_GLOBAL      32 | \"use_local\"\n0072 OP_GET_GLOBAL      33 | \"use_sampled_data\"\n0074 OP_CALL            10 | \n0076 OP_GET_GLOBAL      34 | \"predict\"\n0078 OP_GET_GLOBAL      35 | \"model_name\"\n0080 OP_GET_GLOBAL      36 | \"use_local\"\n0082 OP_GET_GLOBAL      37 | \"use_sampled_data\"\n0084 OP_CALL             3 | \n",
       "done": true,
       "output": "\"Made prediction\""
      }
     },
     "metadata": {},
     "output_type": "display_data"
    }
   ],
   "source": [
    "let use_local := false;\n",
    "let use_sampled_data := true;\n",
    "\n",
    "let model_name := \"lightgbm\";\n",
    "let eval_metric := \"auc\";\n",
    "let max_depth := -1;\n",
    "let n_estimators := 30000;\n",
    "let learning_rate := 0.05;\n",
    "let num_leaves := 4095;\n",
    "let colsample_bytree := 0.28;\n",
    "let objective :=\"binary\";\n",
    "let n_jobs := -1;\n",
    "\n",
    "preprocess(use_local, use_sampled_data);\n",
    "train(\"lightgbm\", \"auc\", max_depth, n_estimators, learning_rate, num_leaves, colsample_bytree, objective, use_local, use_sampled_data);\n",
    "predict(model_name, use_local, use_sampled_data);"
   ]
  },
  {
   "cell_type": "raw",
   "id": "10b5ae4a",
   "metadata": {},
   "source": []
  }
 ],
 "metadata": {
  "kernelspec": {
   "display_name": "BraneScript",
   "language": "text",
   "name": "bscript"
  },
  "language_info": {
   "file_extension": ".bk",
   "mimetype": "text/plain",
   "name": "BraneScript"
  }
 },
 "nbformat": 4,
 "nbformat_minor": 5
}
