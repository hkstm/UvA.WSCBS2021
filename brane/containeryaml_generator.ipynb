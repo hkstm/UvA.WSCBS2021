{
 "metadata": {
  "language_info": {
   "codemirror_mode": {
    "name": "ipython",
    "version": 3
   },
   "file_extension": ".py",
   "mimetype": "text/x-python",
   "name": "python",
   "nbconvert_exporter": "python",
   "pygments_lexer": "ipython3",
   "version": "3.9.4"
  },
  "orig_nbformat": 2,
  "kernelspec": {
   "name": "python394jvsc74a57bd0e9054083f25a816abb89c7387268af1c80d2feb80c40e42f9727b41eadc9dc25",
   "display_name": "Python 3.9.4 64-bit ('VU.DataMining2021': conda)"
  }
 },
 "nbformat": 4,
 "nbformat_minor": 2,
 "cells": [
  {
   "cell_type": "code",
   "execution_count": 17,
   "metadata": {},
   "outputs": [],
   "source": [
    "import ast\n",
    "import yaml\n",
    "from pprint import pprint\n",
    "from collections import defaultdict\n",
    "\n",
    "py2bs_type_dict = {\n",
    "    'str': 'string',\n",
    "    'int': 'integer',\n",
    "    'float': 'real',\n",
    "    'bool': 'boolean',\n",
    "}\n",
    "py2bs_type_dict = defaultdict(lambda: \"NOTIMPLEMENTED\", py2bs_type_dict)\n",
    "\n",
    "name = 'train'\n",
    "script_filename = f'brane_{name}.py'\n",
    "dir = 'training'\n",
    "\n",
    "with open(f\"{dir}/{script_filename}\", \"r\") as source:\n",
    "    tree = ast.parse(source.read())\n",
    "\n",
    "install_dependencies = ['numpy', 'pandas', 'matplotlib', 'scipy', 'scikit-learn', 'lightgbm']\n",
    "\n",
    "functions = [element for element in tree.body if type(element) is ast.FunctionDef]\n",
    "containeryml_dict = {\n",
    "'name': dir,\n",
    "'version': '1.0.0',\n",
    "'kind': 'compute',\n",
    "'dependencies': [\n",
    "    'python3', 'python3-yaml', 'python3-pip'\n",
    "],\n",
    "'files': [script_filename],\n",
    "'install': [f'pip3 install {x}' for x in install_dependencies],\n",
    "'entrypoint': {\n",
    "  'kind': 'task',\n",
    "  'exec': script_filename\n",
    "},\n",
    "'actions': {\n",
    "    function.name:{\n",
    "      'command': {'args': [function.name]},\n",
    "      'input': [{'type': py2bs_type_dict[arg.annotation.id], 'name': arg.arg} for arg in function.args.args],\n",
    "      'output': [{'type': 'string', 'name': 'output'}],\n",
    "    }\n",
    " for function in functions},\n",
    "}\n",
    "\n",
    "with open(f\"{dir}/container.yaml\", 'w') as file:\n",
    "    yaml.dump(containeryml_dict, file)"
   ]
  },
  {
   "cell_type": "code",
   "execution_count": 75,
   "metadata": {},
   "outputs": [],
   "source": [
    "# from as far as I get its kinda impossible to know what is and isn't part of Python's 'standard library' hence install_dependencies need to be manually specified\n",
    "\n",
    "aliases = []\n",
    "imports = [element for element in tree.body if type(element) is ast.Import]\n",
    "import_froms = [element for element in tree.body if type(element) is ast.ImportFrom]\n",
    "for foo in imports: \n",
    "    for bar in foo.names: aliases.append(bar.name)\n",
    "for foo in import_froms: aliases.append(foo.module.split('.')[0])\n",
    "aliases = list(set(aliases))\n",
    "aliases"
   ]
  },
  {
   "cell_type": "code",
   "execution_count": 5,
   "metadata": {},
   "outputs": [],
   "source": []
  }
 ]
}